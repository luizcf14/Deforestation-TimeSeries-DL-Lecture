{
 "cells": [
  {
   "cell_type": "markdown",
   "metadata": {},
   "source": [
    "# Download Images from the Brazil Data Cube (BDC) repositories\n",
    "\n",
    "## 1. Importing libraries\n",
    "\n",
    "Reference for the libraries:\n",
    "\n",
    "+ [stack](https://pypi.org/project/stac.py/)\n",
    "+ [os](https://docs.python.org/3/library/os.html)\n",
    "+ [glob](https://docs.python.org/3/library/glob.html)\n",
    "+ [subprocess](https://docs.python.org/3/library/subprocess.html)\n",
    "+ [tqdm](https://github.com/tqdm/tqdm)\n",
    "+ [time](https://docs.python.org/3/library/time.html)\n",
    "+ [datetime](https://docs.python.org/3/library/datetime.html)\n",
    "+ [numpy](https://numpy.org/install/)"
   ]
  },
  {
   "cell_type": "code",
   "execution_count": null,
   "metadata": {},
   "outputs": [],
   "source": [
    "import stac\n",
    "import os\n",
    "import glob\n",
    "import subprocess\n",
    "from tqdm.notebook import tqdm\n",
    "import time\n",
    "import datetime\n",
    "import numpy as np"
   ]
  },
  {
   "cell_type": "markdown",
   "metadata": {},
   "source": [
    "## 2. Changing working folder"
   ]
  },
  {
   "cell_type": "code",
   "execution_count": null,
   "metadata": {},
   "outputs": [],
   "source": [
    "# folder where all data is stored\n",
    "os.chdir(os.getcwd().rsplit('/',2)[0]+'/Data')"
   ]
  },
  {
   "cell_type": "markdown",
   "metadata": {},
   "source": [
    "## 3. Load BDC service"
   ]
  },
  {
   "cell_type": "code",
   "execution_count": null,
   "metadata": {},
   "outputs": [],
   "source": [
    "# Go to https://brazildatacube.dpi.inpe.br/portal/explore first in order to create an account\n",
    "# and then create a personalized access token.\n",
    "service = stac.STAC('https://brazildatacube.dpi.inpe.br/stac/', access_token='your-token-here')"
   ]
  },
  {
   "cell_type": "code",
   "execution_count": null,
   "metadata": {},
   "outputs": [],
   "source": [
    "service"
   ]
  },
  {
   "cell_type": "code",
   "execution_count": null,
   "metadata": {},
   "outputs": [],
   "source": [
    "collection = service.collection('S2_10-1') # 'S2_10-1' for Sentinel\n",
    "collection"
   ]
  },
  {
   "cell_type": "markdown",
   "metadata": {},
   "source": [
    "## 4. Delimit images dates and images intervals"
   ]
  },
  {
   "cell_type": "code",
   "execution_count": null,
   "metadata": {},
   "outputs": [],
   "source": [
    "# The following start date must be exactly the date of the first image\n",
    "# to be used in the cube. Check in the previous results which image \n",
    "# covers your study area.\n",
    "start_date = '2018-07-04' # date format: 'YYYY-MM-DD'\n",
    "end_date   = '2019-08-31'\n",
    "\n",
    "revisit_time = 5 # 16 for Landsat\n",
    "\n",
    "dates = []\n",
    "\n",
    "date = datetime.datetime.strptime(start_date, '%Y-%m-%d')\n",
    "e_date = datetime.datetime.strptime(end_date, '%Y-%m-%d')\n",
    "\n",
    "while True:\n",
    "    dates.append(datetime.datetime.strftime(date, '%Y-%m-%d'))\n",
    "    date = date+datetime.timedelta(days=revisit_time)\n",
    "    if date>e_date:\n",
    "        break\n",
    "\n",
    "np.save('./dates.npy', dates)"
   ]
  },
  {
   "cell_type": "markdown",
   "metadata": {},
   "source": [
    "## 5. Search and download the images"
   ]
  },
  {
   "cell_type": "code",
   "execution_count": null,
   "metadata": {},
   "outputs": [],
   "source": [
    "items = collection.get_items(\n",
    "            filter={\n",
    "                'bbox':'-45.5081,-13.4911,-45.2142,-13.2239',\n",
    "                'datetime':start_date+'/'+end_date,\n",
    "                'limit':5000\n",
    "            }\n",
    ")\n",
    "items"
   ]
  },
  {
   "cell_type": "code",
   "execution_count": null,
   "metadata": {},
   "outputs": [],
   "source": [
    "bands = ['band2', 'band3', 'band4', 'band8a', 'band11', 'band12', 'NDVI', 'EVI', 'Fmask4']\n",
    "# For Landsat:\n",
    "#     ['band2', 'band3', 'band4', 'band5', 'band6', 'band7', 'NDVI', 'EVI', 'Fmask4'] \n",
    "\n",
    "folder = './bands/raw'\n",
    "os.makedirs(folder)\n",
    "\n",
    "i=1\n",
    "for item in items:\n",
    "    print(i,'/',len(items.features))\n",
    "    if item.id[-10:] in dates:\n",
    "        assets = item.assets\n",
    "        for band in bands:\n",
    "            asset = assets[band]\n",
    "            asset.download(folder)\n",
    "    i+=1"
   ]
  }
 ],
 "metadata": {
  "kernelspec": {
   "display_name": "Python 3",
   "language": "python",
   "name": "python3"
  },
  "language_info": {
   "codemirror_mode": {
    "name": "ipython",
    "version": 3
   },
   "file_extension": ".py",
   "mimetype": "text/x-python",
   "name": "python",
   "nbconvert_exporter": "python",
   "pygments_lexer": "ipython3",
   "version": "3.6.9"
  }
 },
 "nbformat": 4,
 "nbformat_minor": 5
}
