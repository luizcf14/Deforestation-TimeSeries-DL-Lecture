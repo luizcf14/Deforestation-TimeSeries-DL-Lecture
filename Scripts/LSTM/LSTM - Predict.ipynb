{
 "cells": [
  {
   "cell_type": "markdown",
   "metadata": {},
   "source": [
    "# Make the Prediction Using the Previously Trained Model\n",
    "\n",
    "This script aims to make the prediction phase based on a previously trained LSTM model."
   ]
  },
  {
   "cell_type": "markdown",
   "metadata": {},
   "source": [
    "# 1. Importing libraries and changing working directory\n",
    "\n",
    "Reference for the libraries:\n",
    "\n",
    "+ [tensorflow](https://www.tensorflow.org/)\n",
    "+ [numpy](https://numpy.org/)\n",
    "+ [gdal](https://gdal.org/api/python.html)\n",
    "+ [tqdm](https://github.com/tqdm/tqdm)\n",
    "+ [matplotlib](https://matplotlib.org/)\n",
    "+ [rasterio](https://rasterio.readthedocs.io/en/latest/)\n",
    "+ [os](https://docs.python.org/3/library/os.html)"
   ]
  },
  {
   "cell_type": "code",
   "execution_count": null,
   "metadata": {},
   "outputs": [],
   "source": [
    "import tensorflow as tf\n",
    "import numpy as np\n",
    "import gdal\n",
    "from tqdm.notebook import tqdm\n",
    "import matplotlib.pyplot as plt\n",
    "import rasterio as r\n",
    "import os"
   ]
  },
  {
   "cell_type": "code",
   "execution_count": null,
   "metadata": {},
   "outputs": [],
   "source": [
    "print(\"Num GPUs Available: \", len(tf.config.experimental.list_physical_devices('GPU')))\n",
    "print('Tensorflow Version:', tf.__version__)"
   ]
  },
  {
   "cell_type": "code",
   "execution_count": null,
   "metadata": {},
   "outputs": [],
   "source": [
    "# folder where all data is stored\n",
    "os.chdir(os.getcwd().rsplit('/',2)[0]+'/Data')"
   ]
  },
  {
   "cell_type": "markdown",
   "metadata": {},
   "source": [
    "## 2. Create the data to the prediction\n",
    "\n",
    "Defining parameters."
   ]
  },
  {
   "cell_type": "code",
   "execution_count": null,
   "metadata": {},
   "outputs": [],
   "source": [
    "#####################\n",
    "# Map cell\n",
    "cell = '089098'\n",
    "#####################\n",
    "# Approach for the training samples creation. This acts only as an Identifier,\n",
    "# the separation between Approaches 1, 2 and 3 must be made mannually.\n",
    "sit = 'appr1'\n",
    "# Cell used in training.\n",
    "cell_training = '089098'\n",
    "# Platform \n",
    "platform = 'Sentinel'\n",
    "# State\n",
    "state = 'BA'\n",
    "\n",
    "# Year of the data.\n",
    "year = 2019\n",
    "\n",
    "# model id\n",
    "identifier = '2021-07-07_14-41-34'\n",
    "\n",
    "# Model for the stack paths.\n",
    "stack_path_model = './cubes/filled/{0}.{1}.{2}.tif'\n",
    "ind_fist_day = 0\n",
    "\n",
    "# landsat: 27, sentinel: 85\n",
    "if platform=='Sentinel':\n",
    "    ind_last_day = 85\n",
    "    stacks = ['band2', 'band3', 'band4', 'band8a', 'band11', 'band12', 'NDVI', 'EVI']\n",
    "if platform=='Landsat':\n",
    "    ind_last_day = 27\n",
    "    stacks = ['band2', 'band3', 'band4', 'band5', 'band6', 'band7', 'NDVI', 'EVI']\n",
    "\n",
    "nan_value = -9999\n",
    "\n",
    "path_mask = f'./ref/PRODES_up{str(year-1)}.tif'"
   ]
  },
  {
   "cell_type": "markdown",
   "metadata": {},
   "source": [
    "Creating past deforestation mask."
   ]
  },
  {
   "cell_type": "code",
   "execution_count": null,
   "metadata": {},
   "outputs": [],
   "source": [
    "mask = gdal.Open(path_mask).ReadAsArray()\n",
    "mask = mask==0\n",
    "\n",
    "cube = gdal.Open(stack_path_model.format(year, cell, 'band4')).ReadAsArray()\n",
    "\n",
    "mask[cube[0,:,:]==nan_value] = False\n",
    "\n",
    "\n",
    "del cube\n",
    "\n",
    "print(mask.shape)\n",
    "\n",
    "plt.imshow(mask)\n",
    "plt.show()"
   ]
  },
  {
   "cell_type": "markdown",
   "metadata": {},
   "source": [
    "Create the samples to predict upon."
   ]
  },
  {
   "cell_type": "code",
   "execution_count": null,
   "metadata": {},
   "outputs": [],
   "source": [
    "total_series = np.sum(mask)\n",
    "total_days   = ind_last_day-ind_fist_day\n",
    "total_stacks = len(stacks)"
   ]
  },
  {
   "cell_type": "markdown",
   "metadata": {},
   "source": [
    "## 3. Load model\n",
    "\n",
    "It must be changed in case some changes are made in the training script."
   ]
  },
  {
   "cell_type": "code",
   "execution_count": null,
   "metadata": {},
   "outputs": [],
   "source": [
    "batch_size = 256\n",
    "input_dim = len(stacks)\n",
    "\n",
    "units = 256\n",
    "output_size = 2  # labels are of one dimension\n",
    "\n",
    "# Build the RNN model\n",
    "def build_model(allow_cudnn_kernel=True):\n",
    "  # CuDNN is only available at the layer level, and not at the cell level.\n",
    "  # This means `LSTM(units)` will use the CuDNN kernel,\n",
    "  # while RNN(LSTMCell(units)) will run on non-CuDNN kernel.\n",
    "  if allow_cudnn_kernel:\n",
    "    # The LSTM layer with default options uses CuDNN.\n",
    "    lstm_layer = tf.keras.layers.LSTM(units, input_shape=(None, input_dim))\n",
    "  else:\n",
    "    # Wrapping a LSTMCell in a RNN layer will not use CuDNN.\n",
    "    lstm_layer = tf.keras.layers.RNN(\n",
    "        tf.keras.layers.LSTMCell(units),\n",
    "        input_shape=(None, input_dim))\n",
    "  model = tf.keras.models.Sequential([\n",
    "      lstm_layer,\n",
    "      tf.keras.layers.BatchNormalization(),\n",
    "      tf.keras.layers.Dense(output_size, activation='softmax')])\n",
    "  return model"
   ]
  },
  {
   "cell_type": "code",
   "execution_count": null,
   "metadata": {},
   "outputs": [],
   "source": [
    "model_path = './models/LSTM/training.LSTM.{}.h5'.format(identifier)\n",
    "\n",
    "model = tf.keras.models.load_model(model_path)\n",
    "model.summary()"
   ]
  },
  {
   "cell_type": "markdown",
   "metadata": {},
   "source": [
    "## 4. Make the prediction"
   ]
  },
  {
   "cell_type": "code",
   "execution_count": null,
   "metadata": {},
   "outputs": [],
   "source": [
    "# placeholder for the series to predict\n",
    "series = np.zeros([total_series, total_days, total_stacks], dtype=np.float32)\n",
    "\n",
    "# filling the placeholder\n",
    "for i in range(len(stacks)):\n",
    "    print('Allocating {}...'.format(stacks[i]))\n",
    "\n",
    "    stack = gdal.Open(stack_path_model.format(year, cell, stacks[i])).ReadAsArray()\n",
    "    stack = stack/10000\n",
    "\n",
    "    count = 0\n",
    "    for ii in tqdm(range(stack.shape[1])):\n",
    "        for jj in range(stack.shape[2]):\n",
    "            if mask[ii,jj]:\n",
    "                series[count,:,i] = stack[ind_fist_day:ind_last_day,ii,jj]\n",
    "                count += 1\n",
    "\n",
    "    del stack\n",
    "\n",
    "print('Finished extracting series!')\n",
    "\n",
    "# making the prediction\n",
    "result = np.zeros(mask.shape, dtype=np.float32)\n",
    "\n",
    "gpu_model = build_model(allow_cudnn_kernel=True)\n",
    "gpu_model.set_weights(model.get_weights())\n",
    "\n",
    "pred = gpu_model.predict(series,\n",
    "                         batch_size=256,\n",
    "                         verbose=1,\n",
    "                         steps=None,\n",
    "                         callbacks=None,\n",
    "                         max_queue_size=10,\n",
    "                         workers=2,\n",
    "                         use_multiprocessing=True)\n",
    "aux = 0\n",
    "for i in range(result.shape[0]):\n",
    "    for j in range(result.shape[1]):\n",
    "        if mask[i,j]:\n",
    "            result[i,j] = pred[aux,1]\n",
    "            aux += 1\n",
    "\n",
    "del gpu_model"
   ]
  },
  {
   "cell_type": "code",
   "execution_count": null,
   "metadata": {},
   "outputs": [],
   "source": [
    "pred.shape"
   ]
  },
  {
   "cell_type": "markdown",
   "metadata": {},
   "source": [
    "## 5. Save results as ```.tif```"
   ]
  },
  {
   "cell_type": "code",
   "execution_count": null,
   "metadata": {},
   "outputs": [],
   "source": [
    "pred_result_1 = result*10000\n",
    "\n",
    "pred_result_1[np.invert(mask)]=-9999"
   ]
  },
  {
   "cell_type": "code",
   "execution_count": null,
   "metadata": {},
   "outputs": [],
   "source": [
    "if not os.path.exists('./predictions/LSTM'):\n",
    "    os.makedirs('./predictions/LSTM')\n",
    "\n",
    "ref = gdal.Open(path_mask)\n",
    "in_band = ref.GetRasterBand(1)\n",
    "\n",
    "gtiff_driver = gdal.GetDriverByName('GTiff')\n",
    "path_result = './predictions/LSTM/{3}.{0}.{1}.tr{2}.tif'.format(str(year), cell, cell_training, sit)\n",
    "out_ds = gtiff_driver.Create(path_result, mask.shape[1], mask.shape[0], 1, 3, ['COMPRESS=LZW'])\n",
    "out_ds.SetProjection(ref.GetProjection())\n",
    "out_ds.SetGeoTransform(ref.GetGeoTransform())  \n",
    "\n",
    "band = out_ds.GetRasterBand(1)\n",
    "band.WriteArray(pred_result_1)\n",
    "band.SetNoDataValue(-9999)\n",
    "band.FlushCache()\n",
    "\n",
    "out_ds = None\n",
    "ref = None\n",
    "\n",
    "print(path_result)"
   ]
  },
  {
   "cell_type": "markdown",
   "metadata": {},
   "source": [
    "## 6. Show final results"
   ]
  },
  {
   "cell_type": "code",
   "execution_count": null,
   "metadata": {},
   "outputs": [],
   "source": [
    "band = gdal.Open(path_result).ReadAsArray()\n",
    "band = np.asarray(band, dtype=np.float32)\n",
    "band[band==-9999] = None\n",
    "\n",
    "plt.figure(figsize=(10,10))\n",
    "plt.imshow(band, interpolation='nearest')\n",
    "plt.title(path_result)\n",
    "plt.show()"
   ]
  }
 ],
 "metadata": {
  "kernelspec": {
   "display_name": "Python 3",
   "language": "python",
   "name": "python3"
  },
  "language_info": {
   "codemirror_mode": {
    "name": "ipython",
    "version": 3
   },
   "file_extension": ".py",
   "mimetype": "text/x-python",
   "name": "python",
   "nbconvert_exporter": "python",
   "pygments_lexer": "ipython3",
   "version": "3.6.9"
  }
 },
 "nbformat": 4,
 "nbformat_minor": 4
}
