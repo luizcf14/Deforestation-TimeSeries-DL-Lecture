{
 "cells": [
  {
   "cell_type": "markdown",
   "metadata": {},
   "source": [
    "# Create Samples for LSTM Training\n",
    "\n",
    "\n",
    "## 1. Importing libraries\n",
    "\n",
    "Reference for the libraries:\n",
    "\n",
    "+ [numpy](https://numpy.org/install/)\n",
    "+ [matplotlib](https://matplotlib.org/)\n",
    "+ [tqdm](https://github.com/tqdm/tqdm)\n",
    "+ [gdal](https://gdal.org/api/python.html)\n",
    "+ [time](https://docs.python.org/3/library/time.html)\n",
    "+ [os](https://docs.python.org/3/library/os.html)\n",
    "+ [datetime](https://docs.python.org/3/library/datetime.html)"
   ]
  },
  {
   "cell_type": "code",
   "execution_count": null,
   "metadata": {},
   "outputs": [],
   "source": [
    "import numpy as np\n",
    "import matplotlib.pyplot as plt\n",
    "from tqdm.notebook import tqdm\n",
    "import gdal\n",
    "import time\n",
    "import os\n",
    "import datetime"
   ]
  },
  {
   "cell_type": "markdown",
   "metadata": {},
   "source": [
    "## 2. Changing working directory"
   ]
  },
  {
   "cell_type": "code",
   "execution_count": null,
   "metadata": {},
   "outputs": [],
   "source": [
    "# folder where all data is stored\n",
    "os.chdir(os.getcwd().rsplit('/',2)[0]+'/Data')"
   ]
  },
  {
   "cell_type": "markdown",
   "metadata": {},
   "source": [
    "## 3. Opening Reference"
   ]
  },
  {
   "cell_type": "code",
   "execution_count": null,
   "metadata": {},
   "outputs": [],
   "source": [
    "# Cube cell to select the samples from.\n",
    "cell = '089098'\n",
    "\n",
    "# Approach number.\n",
    "samples_id = 'appr1.BA'\n",
    "\n",
    "# Platforma, as in Landsat or Sentinel.\n",
    "platform = 'Sentinel'\n",
    "\n",
    "# Max. number of pixels per PRODES polygon to select.\n",
    "number_pixels = 1800 # BA: landsat=200 and Sentinel=1800\n",
    "\n",
    "# Year to select the samples from.\n",
    "year = 2019\n",
    "\n",
    "# ----------------------------\n",
    "# PATHS FOR THE REFERENCE DATA\n",
    "# All data must be rasterized with the same width and height as the cubes in pixels,\n",
    "# same bounding box and same EPSG.\n",
    "\n",
    "# one of the cubes to be used as reference\n",
    "path_band      = f'./cubes/filled/{str(year)}.{cell}.band4.tif'\n",
    "# PRODES deforestation polygons for the reference year. Each polygon being\n",
    "# rasterized with a unique int number. Available from <http://terrabrasilis.dpi.inpe.br/downloads/>\n",
    "path_prodes    = f'./ref/Approach1_PRODES_{str(year)}.tif'\n",
    "# All PRODES past deforestation from before the reference year. 0 not past deforestation,\n",
    "# 1 for past deforestation. Available from <http://terrabrasilis.dpi.inpe.br/downloads/>\n",
    "# from \"Accumulated area mask of native vegetation suppression\" and \"Yearly increment in native \n",
    "# vegetation suppression\".\n",
    "path_prodes_up = f'./ref/PRODES_up{str(year-1)}.tif'\n",
    "# SRTM slope.\n",
    "path_slope     = f'./ref/slope_{cell}.tif'\n",
    "# ----------------------------\n",
    "\n",
    "# Opening needed data.\n",
    "data      = gdal.Open(path_band)\n",
    "band      = data.GetRasterBand(1)\n",
    "band      = band.ReadAsArray()\n",
    "prodes    = gdal.Open(path_prodes).ReadAsArray()\n",
    "prodes_up = gdal.Open(path_prodes_up).ReadAsArray()\n",
    "slope     = gdal.Open(path_slope).ReadAsArray()\n",
    "\n",
    "prodes[band==data.GetRasterBand(1).GetNoDataValue()] = 0\n",
    "prodes_up[band==data.GetRasterBand(1).GetNoDataValue()] = 1\n",
    "slope[band==data.GetRasterBand(1).GetNoDataValue()] = None"
   ]
  },
  {
   "cell_type": "code",
   "execution_count": null,
   "metadata": {},
   "outputs": [],
   "source": [
    "# Plotting the reference data.\n",
    "fig, (ax0, ax1, ax2, ax3) = plt.subplots(1,4, sharey=True)\n",
    "\n",
    "fig.set_figwidth(15)\n",
    "\n",
    "ax0.imshow(band)\n",
    "ax0.set_title('Band')\n",
    "\n",
    "ax1.imshow(prodes)\n",
    "ax1.set_title('prodes')\n",
    "    \n",
    "ax2.imshow(prodes_up)\n",
    "ax2.set_title('prodes_up')\n",
    "ax3.imshow(slope)\n",
    "ax3.set_title('slope')\n",
    "\n",
    "plt.show()"
   ]
  },
  {
   "cell_type": "markdown",
   "metadata": {},
   "source": [
    "## 4. Samples Deforestation"
   ]
  },
  {
   "cell_type": "code",
   "execution_count": null,
   "metadata": {},
   "outputs": [],
   "source": [
    "# Get unique polygons. The raster was previously created, write one unique number \n",
    "# for each polygon. The noData value is 0.\n",
    "unique, counts = np.unique(prodes, return_counts=True)\n",
    "unique.shape"
   ]
  },
  {
   "cell_type": "code",
   "execution_count": null,
   "metadata": {},
   "outputs": [],
   "source": [
    "# Substitute the original numbers to sequential numbers in the form range(0,n,1), \n",
    "# where n is the total of unique values.\n",
    "print(unique.shape, counts.shape)"
   ]
  },
  {
   "cell_type": "code",
   "execution_count": null,
   "metadata": {},
   "outputs": [],
   "source": [
    "# Plotting a graph with the number of series available per deforestation polygon.\n",
    "plt.figure(figsize=(20,3))\n",
    "plt.plot(range(1,len(counts)), counts[1:], linewidth=.3)\n",
    "plt.ylim(0,number_pixels)\n",
    "plt.xlim(0,)\n",
    "plt.show()"
   ]
  },
  {
   "cell_type": "code",
   "execution_count": null,
   "metadata": {},
   "outputs": [],
   "source": [
    "# Calculating the total of deforestation samples.\n",
    "counts_copy = counts.copy()\n",
    "counts_copy[counts>number_pixels] = number_pixels\n",
    "total = np.sum(counts_copy[1:])\n",
    "print('Half number of samples:', total)"
   ]
  },
  {
   "cell_type": "code",
   "execution_count": null,
   "metadata": {},
   "outputs": [],
   "source": [
    "# Randomly select the samples.\n",
    "ind_def = np.zeros([total,2], dtype=np.int)\n",
    "num = 0\n",
    "\n",
    "for i in tqdm(unique[1:]):\n",
    "    ind_i, ind_j = np.where(prodes==i)\n",
    "    \n",
    "    if len(ind_i)<number_pixels:\n",
    "        rng = np.random.default_rng()\n",
    "        indexes = rng.choice(len(ind_i), size=len(ind_i), replace=False)\n",
    "        \n",
    "    else:\n",
    "        rng = np.random.default_rng()\n",
    "        indexes = rng.choice(len(ind_i), size=number_pixels, replace=False)\n",
    "        \n",
    "    for ii in indexes:\n",
    "        ind_def[num,0] = ind_i[ii]\n",
    "        ind_def[num,1] = ind_j[ii]\n",
    "        num += 1"
   ]
  },
  {
   "cell_type": "code",
   "execution_count": null,
   "metadata": {},
   "outputs": [],
   "source": [
    "# Plotting the locations of deforestation training samples over the reference band.\n",
    "plt.figure(figsize=(10,10))\n",
    "plt.imshow(band, vmin=-50, vmax=3000)\n",
    "plt.plot(ind_def[:,1], ind_def[:,0], '.r')\n",
    "plt.show()"
   ]
  },
  {
   "cell_type": "markdown",
   "metadata": {},
   "source": [
    "## 5. Samples not Deforestation"
   ]
  },
  {
   "cell_type": "code",
   "execution_count": null,
   "metadata": {},
   "outputs": [],
   "source": [
    "# Plotting slope reference data.\n",
    "slope[band==data.GetRasterBand(1).GetNoDataValue()]  = None\n",
    "slope[prodes!=0]        = None\n",
    "slope[prodes_up==1]     = None\n",
    "\n",
    "plt.imshow(slope)\n",
    "plt.show()"
   ]
  },
  {
   "cell_type": "code",
   "execution_count": null,
   "metadata": {},
   "outputs": [],
   "source": [
    "# Creating the slope classes.\n",
    "# 0-4\n",
    "# 4-6\n",
    "# 6+\n",
    "\n",
    "slope_ref = slope.copy()\n",
    "\n",
    "cut = slope<4\n",
    "slope_ref[cut] = -3\n",
    "\n",
    "cut = slope>=4\n",
    "cut = cut * (slope<6)\n",
    "slope_ref[cut] = -2\n",
    "\n",
    "cut = slope>=6\n",
    "slope_ref[cut] = -1\n",
    "\n",
    "slope_ref = slope_ref + 4"
   ]
  },
  {
   "cell_type": "code",
   "execution_count": null,
   "metadata": {},
   "outputs": [],
   "source": [
    "# Histogram for the number of pixels in each class.\n",
    "plt.hist(slope_ref.ravel())\n",
    "plt.show()"
   ]
  },
  {
   "cell_type": "code",
   "execution_count": null,
   "metadata": {},
   "outputs": [],
   "source": [
    "# Getting the classes.\n",
    "slope_ref[np.isnan(slope_ref)] = 0\n",
    "unique, counts = np.unique(slope_ref, return_counts=True)\n",
    "unique, counts"
   ]
  },
  {
   "cell_type": "code",
   "execution_count": null,
   "metadata": {},
   "outputs": [],
   "source": [
    "# Number of pixels in each slope class.\n",
    "number_pixels = int(total/(len(unique)-1))\n",
    "print('Number of pixels for each class:', number_pixels)"
   ]
  },
  {
   "cell_type": "code",
   "execution_count": null,
   "metadata": {},
   "outputs": [],
   "source": [
    "# Randomly select the natural vegetation samples.\n",
    "ind_not_def = np.zeros([number_pixels*(len(unique)-1),2], dtype=np.int)\n",
    "num = 0\n",
    "\n",
    "for i in tqdm(range(1, len(unique))):\n",
    "    ind_i, ind_j = np.where(slope_ref==i)\n",
    "    \n",
    "    if len(ind_i)<number_pixels:\n",
    "        rng = np.random.default_rng()\n",
    "        indexes = rng.choice(len(ind_i), size=len(ind_i), replace=False)\n",
    "        \n",
    "    else:\n",
    "        rng = np.random.default_rng()\n",
    "        indexes = rng.choice(len(ind_i), size=number_pixels, replace=False)\n",
    "        \n",
    "    for ii in indexes:\n",
    "        ind_not_def[num,0] = ind_i[ii]\n",
    "        ind_not_def[num,1] = ind_j[ii]\n",
    "        num += 1"
   ]
  },
  {
   "cell_type": "code",
   "execution_count": null,
   "metadata": {},
   "outputs": [],
   "source": [
    "# Plotting the location of natural vegetation training samples.\n",
    "plt.figure(figsize=(10,10))\n",
    "plt.imshow(band, vmin=-50, vmax=3000)\n",
    "plt.plot(ind_not_def[:,1], ind_not_def[:,0], '.r')\n",
    "plt.show()"
   ]
  },
  {
   "cell_type": "code",
   "execution_count": null,
   "metadata": {},
   "outputs": [],
   "source": [
    "# Difference between the number of deforestation and natural vegetation samples.\n",
    "\n",
    "total-num"
   ]
  },
  {
   "cell_type": "markdown",
   "metadata": {},
   "source": [
    "## 6. Merge the Samples Indices"
   ]
  },
  {
   "cell_type": "code",
   "execution_count": null,
   "metadata": {},
   "outputs": [],
   "source": [
    "# Merging the deforestation and natural vegetation samples indices in the same array.\n",
    "\n",
    "samples_ind = np.zeros([len(ind_def)+len(ind_not_def), 3], dtype=np.int)\n",
    "\n",
    "samples_ind[:len(ind_def), 0] = ind_def[:,0]\n",
    "samples_ind[:len(ind_def), 1] = ind_def[:,1]\n",
    "samples_ind[:len(ind_def), 2] = [1]*len(ind_def)\n",
    "\n",
    "samples_ind[len(ind_def):, 0] = ind_not_def[:,0]\n",
    "samples_ind[len(ind_def):, 1] = ind_not_def[:,1]\n",
    "samples_ind[len(ind_def):, 2] = [0]*len(ind_not_def)\n",
    "\n",
    "print(samples_ind[-1,:], '\\n')\n",
    "\n",
    "np.random.shuffle(samples_ind)\n",
    "np.random.shuffle(samples_ind)\n",
    "print(samples_ind[-10:])"
   ]
  },
  {
   "cell_type": "markdown",
   "metadata": {},
   "source": [
    "Populating..."
   ]
  },
  {
   "cell_type": "markdown",
   "metadata": {},
   "source": [
    "## 7. Populate Series"
   ]
  },
  {
   "cell_type": "code",
   "execution_count": null,
   "metadata": {},
   "outputs": [],
   "source": [
    "# Acquiring the pixel time series for the training samples.\n",
    "\n",
    "t1 = time.time()\n",
    "\n",
    "if platform == 'Sentinel':\n",
    "    cubes = ['band2', 'band3', 'band4', 'band8a', 'band11', 'band12', 'NDVI', 'EVI']\n",
    "elif platform == 'Landsat':\n",
    "    cubes = ['band2', 'band3', 'band4', 'band5', 'band6', 'band7', 'NDVI', 'EVI']\n",
    "\n",
    "cube = gdal.Open(path_band)\n",
    "\n",
    "samples = np.zeros([len(samples_ind), cube.RasterCount, len(cubes)], dtype=np.float32)\n",
    "\n",
    "for cube_ind in range(len(cubes)):\n",
    "    print('---- Populate '+cubes[cube_ind]+' ----')\n",
    "    cube_path = f'./cubes/filled/{str(year)}.{cell}.{cubes[cube_ind]}.tif'\n",
    "    cube = gdal.Open(cube_path).ReadAsArray()\n",
    "    \n",
    "    ii = 0\n",
    "    for i,j,k in tqdm(samples_ind):\n",
    "        samples[ii, :, cube_ind] = cube[:,i,j]/10000\n",
    "        ii += 1\n",
    "        \n",
    "    del cube\n",
    "    \n",
    "print('---- Done! ----')\n",
    "t2 = time.time()\n",
    "print('Elapsed time: %.3f minutes' % ((t2-t1)/60))"
   ]
  },
  {
   "cell_type": "code",
   "execution_count": null,
   "metadata": {},
   "outputs": [],
   "source": [
    "# Plotting some of the training samples. 0 is natural deforestation and 1 is deforestation.\n",
    "\n",
    "f, ax = plt.subplots(ncols=10, sharey=True)\n",
    "f.set_figwidth(20)\n",
    "f.set_figheight(10)\n",
    "\n",
    "for i in range(10):\n",
    "    ax[i].imshow(samples[i,:,:], vmin=0, vmax=.8, interpolation='nearest')\n",
    "    ax[i].title.set_text(str(samples_ind[i,2]))\n",
    "\n",
    "plt.show()"
   ]
  },
  {
   "cell_type": "markdown",
   "metadata": {},
   "source": [
    "Saving the samples."
   ]
  },
  {
   "cell_type": "code",
   "execution_count": null,
   "metadata": {},
   "outputs": [],
   "source": [
    "# Saving the training samples in a file. The reference values for the samples\n",
    "# are saved in a separate file.\n",
    "os.makedirs('./training_samples/LSTM')\n",
    "\n",
    "date = datetime.datetime.today()\n",
    "\n",
    "np.save(f'./training_samples/LSTM/{samples_id}.{year}.samples.npy', samples)\n",
    "np.save(f'./training_samples/LSTM/{samples_id}.{year}.truth.npy', samples_ind[:,2])"
   ]
  },
  {
   "cell_type": "code",
   "execution_count": null,
   "metadata": {},
   "outputs": [],
   "source": [
    "# printing the path to the created training samples.\n",
    "print('Saved in: ', f'./training_samples/LSTM/{samples_id}.{year}.samples.npy')\n",
    "print('Saved in: ', f'./training_samples/LSTM/{samples_id}.{year}.truth.npy')"
   ]
  },
  {
   "cell_type": "markdown",
   "metadata": {},
   "source": [
    "## END"
   ]
  }
 ],
 "metadata": {
  "kernelspec": {
   "display_name": "Python 3",
   "language": "python",
   "name": "python3"
  },
  "language_info": {
   "codemirror_mode": {
    "name": "ipython",
    "version": 3
   },
   "file_extension": ".py",
   "mimetype": "text/x-python",
   "name": "python",
   "nbconvert_exporter": "python",
   "pygments_lexer": "ipython3",
   "version": "3.6.9"
  }
 },
 "nbformat": 4,
 "nbformat_minor": 4
}
