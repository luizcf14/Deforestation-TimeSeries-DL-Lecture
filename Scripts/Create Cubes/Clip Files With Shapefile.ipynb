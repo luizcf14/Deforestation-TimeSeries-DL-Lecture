{
 "cells": [
  {
   "cell_type": "markdown",
   "metadata": {},
   "source": [
    "# Clip bands with shapefile\n",
    "\n",
    "## 1. Importing libraries\n",
    "\n",
    "Libraries reference:\n",
    "\n",
    "+ [glob](https://docs.python.org/3/library/glob.html)\n",
    "+ [subprocess](https://docs.python.org/3/library/subprocess.html)\n",
    "+ [tqdm](https://github.com/tqdm/tqdm)\n",
    "+ [os](https://docs.python.org/3/library/os.html)\n",
    "\n",
    "The bash command `gdalwarp` from gdal must be available."
   ]
  },
  {
   "cell_type": "code",
   "execution_count": null,
   "metadata": {},
   "outputs": [],
   "source": [
    "import glob\n",
    "import subprocess\n",
    "import os\n",
    "from tqdm.notebook import tqdm"
   ]
  },
  {
   "cell_type": "markdown",
   "metadata": {},
   "source": [
    "## 2. Changing the working folder location"
   ]
  },
  {
   "cell_type": "code",
   "execution_count": null,
   "metadata": {},
   "outputs": [],
   "source": [
    "# folder where all data is stored\n",
    "os.chdir(os.getcwd().rsplit('/',2)[0]+'/Data')"
   ]
  },
  {
   "cell_type": "markdown",
   "metadata": {},
   "source": [
    "## 3. Clipping the bands"
   ]
  },
  {
   "cell_type": "code",
   "execution_count": null,
   "metadata": {},
   "outputs": [],
   "source": [
    "shapefile = './ref/study_area.shp'"
   ]
  },
  {
   "cell_type": "code",
   "execution_count": null,
   "metadata": {},
   "outputs": [],
   "source": [
    "files = glob.glob('./bands/raw/*.tif')"
   ]
  },
  {
   "cell_type": "code",
   "execution_count": null,
   "metadata": {},
   "outputs": [],
   "source": [
    "os.mkdir('./bands/clipped')\n",
    "for file in tqdm(files):\n",
    "    save_path = file.replace('raw', 'clipped')\n",
    "    command = 'gdalwarp -cutline {0} -co COMPRESS=LZW -crop_to_cutline {1} {2} -multi -wo NUM_THREADS=8'.format(shapefile, \n",
    "                                                                                                                file, \n",
    "                                                                                                                save_path)\n",
    "    \n",
    "    subprocess.call(command, shell=True)"
   ]
  }
 ],
 "metadata": {
  "kernelspec": {
   "display_name": "Python 3",
   "language": "python",
   "name": "python3"
  },
  "language_info": {
   "codemirror_mode": {
    "name": "ipython",
    "version": 3
   },
   "file_extension": ".py",
   "mimetype": "text/x-python",
   "name": "python",
   "nbconvert_exporter": "python",
   "pygments_lexer": "ipython3",
   "version": "3.6.9"
  }
 },
 "nbformat": 4,
 "nbformat_minor": 4
}
