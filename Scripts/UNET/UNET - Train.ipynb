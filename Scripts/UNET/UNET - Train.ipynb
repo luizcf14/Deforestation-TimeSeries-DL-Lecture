{
 "cells": [
  {
   "cell_type": "markdown",
   "metadata": {},
   "source": [
    "# U-Net Training\n",
    "\n",
    "Script to train the U-Net model."
   ]
  },
  {
   "cell_type": "markdown",
   "metadata": {},
   "source": [
    "## 1. Importing libraries and changing working directory\n",
    "\n",
    "Reference for the libraries:\n",
    "\n",
    "+ [numpy](https://numpy.org/)\n",
    "+ [gdal](https://gdal.org/api/python.html)\n",
    "+ [os](https://docs.python.org/3/library/os.html)\n",
    "+ [datetime](https://docs.python.org/3/library/datetime.html)\n",
    "+ [time](https://docs.python.org/3/library/time.html)\n",
    "+ [deepgeo](https://github.com/rvmaretto/deepgeo)"
   ]
  },
  {
   "cell_type": "code",
   "execution_count": null,
   "metadata": {},
   "outputs": [],
   "source": [
    "import numpy as np\n",
    "import gdal\n",
    "import os\n",
    "from datetime import datetime\n",
    "import time\n",
    "import deepgeo.networks.model_builder as mb"
   ]
  },
  {
   "cell_type": "code",
   "execution_count": null,
   "metadata": {},
   "outputs": [],
   "source": [
    "# folder where all data is stored\n",
    "os.chdir(os.getcwd().rsplit('/',2)[0]+'/Data')"
   ]
  },
  {
   "cell_type": "markdown",
   "metadata": {},
   "source": [
    "## 2. Creates folder to save the model and define the model's ID"
   ]
  },
  {
   "cell_type": "code",
   "execution_count": null,
   "metadata": {},
   "outputs": [],
   "source": [
    "if not os.path.exists('./models/UNET'):\n",
    "    os.makedirs('./models/UNET')\n",
    "models_folder = './models/UNET/'"
   ]
  },
  {
   "cell_type": "code",
   "execution_count": null,
   "metadata": {},
   "outputs": [],
   "source": [
    "now = datetime.now()\n",
    "\n",
    "identifier = '{0}-{1}-{2}_{3}-{4}-{5}'.format(now.year, \n",
    "                                              str(now.month).zfill(2), \n",
    "                                              str(now.day).zfill(2), \n",
    "                                              str(now.hour).zfill(2), \n",
    "                                              str(now.minute).zfill(2), \n",
    "                                              str(now.second).zfill(2))\n",
    "\n",
    "print('Identifier:', identifier)\n",
    "model_dir = models_folder+identifier\n",
    "os.mkdir(model_dir)\n",
    "print('Model Folder: ', model_dir)"
   ]
  },
  {
   "cell_type": "markdown",
   "metadata": {},
   "source": [
    "## 3. Defining parameters"
   ]
  },
  {
   "cell_type": "code",
   "execution_count": null,
   "metadata": {},
   "outputs": [],
   "source": [
    "# Approach for the training samples.\n",
    "sit = 'appr1'\n",
    "# State\n",
    "state = 'BA'\n",
    "# platform\n",
    "platform = 'Sentinel'\n",
    "\n",
    "train_tfrecord = f'./training_samples/UNET/{sit}.{state}.{platform}/{sit}.{state}.{platform}_train.tfrecord'\n",
    "test_tfrecord  = f'./training_samples/UNET/{sit}.{state}.{platform}/{sit}.{state}.{platform}_test.tfrecord'"
   ]
  },
  {
   "cell_type": "code",
   "execution_count": null,
   "metadata": {},
   "outputs": [],
   "source": [
    "params = {\n",
    "    'network': 'unet',\n",
    "    'epochs': 100,\n",
    "    'batch_size': 5,\n",
    "    'chip_size': 284,\n",
    "    'bands': 2,\n",
    "    'learning_rate': 0.01,\n",
    "    'learning_rate_decay': True,\n",
    "    'decay_rate': 0.92,\n",
    "    'l2_reg_rate': 0.0005,\n",
    "    'chips_tensorboard': 2,\n",
    "    'loss_func': 'avg_soft_dice',\n",
    "    'data_aug_ops': ['rot90', 'rot180', 'rot270', 'flip_left_right',\n",
    "                     'flip_up_down', 'flip_transpose'],\n",
    "    'data_aug_per_chip': 6,\n",
    "    'num_classes': 3,\n",
    "    'class_names': ['no_data', 'Deforestation', 'Not Deforestation'],\n",
    "    'num_compositions': 1,\n",
    "    'bands_plot': [0 , 0, 1],\n",
    "    'Notes': train_tfrecord\n",
    "}"
   ]
  },
  {
   "cell_type": "markdown",
   "metadata": {},
   "source": [
    "## 4. Train the model"
   ]
  },
  {
   "cell_type": "code",
   "execution_count": null,
   "metadata": {},
   "outputs": [],
   "source": [
    "t1 = time.time()"
   ]
  },
  {
   "cell_type": "code",
   "execution_count": null,
   "metadata": {},
   "outputs": [],
   "source": [
    "model = mb.ModelBuilder(params)\n",
    "model.train(train_tfrecord, test_tfrecord, model_dir)"
   ]
  },
  {
   "cell_type": "code",
   "execution_count": null,
   "metadata": {},
   "outputs": [],
   "source": [
    "t2 = time.time()\n",
    "print('Elapsed time: %.3f min.' % ((t2-t1)/60))"
   ]
  }
 ],
 "metadata": {
  "kernelspec": {
   "display_name": "Python 3",
   "language": "python",
   "name": "python3"
  },
  "language_info": {
   "codemirror_mode": {
    "name": "ipython",
    "version": 3
   },
   "file_extension": ".py",
   "mimetype": "text/x-python",
   "name": "python",
   "nbconvert_exporter": "python",
   "pygments_lexer": "ipython3",
   "version": "3.6.9"
  }
 },
 "nbformat": 4,
 "nbformat_minor": 4
}
