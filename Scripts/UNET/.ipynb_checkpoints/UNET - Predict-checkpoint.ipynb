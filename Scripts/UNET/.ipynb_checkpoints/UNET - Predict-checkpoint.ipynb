{
 "cells": [
  {
   "cell_type": "markdown",
   "metadata": {},
   "source": [
    "# U-Net Predict\n",
    "\n",
    "Script to use the U-Net trained model to predict upon unseen data, in order to generate the deforestation detection map."
   ]
  },
  {
   "cell_type": "markdown",
   "metadata": {},
   "source": [
    "## 1. Importing libraries and changing working directory\n",
    "\n",
    "Reference for the libraries:\n",
    "\n",
    "+ [numpy](https://numpy.org/)\n",
    "+ [gdal](https://gdal.org/api/python.html)\n",
    "+ [os](https://docs.python.org/3/library/os.html)\n",
    "+ [deepgeo](https://github.com/rvmaretto/deepgeo)"
   ]
  },
  {
   "cell_type": "code",
   "execution_count": null,
   "metadata": {},
   "outputs": [],
   "source": [
    "import numpy as np\n",
    "import gdal\n",
    "import os\n",
    "import deepgeo.common.geofunctions as gf\n",
    "import deepgeo.common.visualization as vis\n",
    "import deepgeo.dataset.dataset_generator as dg\n",
    "import deepgeo.dataset.preprocessor as prep\n",
    "import deepgeo.dataset.sequential_chips as seqchips\n",
    "import deepgeo.networks.model_builder as mb"
   ]
  },
  {
   "cell_type": "code",
   "execution_count": null,
   "metadata": {},
   "outputs": [],
   "source": [
    "# folder where all data is stored\n",
    "os.chdir(os.getcwd().rsplit('/',2)[0]+'/Data')"
   ]
  },
  {
   "cell_type": "markdown",
   "metadata": {},
   "source": [
    "## 2. Defining parameters and data pre-processing"
   ]
  },
  {
   "cell_type": "code",
   "execution_count": null,
   "metadata": {},
   "outputs": [],
   "source": [
    "# id of the trained model\n",
    "model_id = '2021-07-07_16-59-24'\n",
    "model_path = f'./models/UNET/{model_id}'"
   ]
  },
  {
   "cell_type": "code",
   "execution_count": null,
   "metadata": {},
   "outputs": [],
   "source": [
    "# approach for the training samples\n",
    "sit = 'appr1'\n",
    "# cell to predict upon\n",
    "cell = '089098'\n",
    "# cell used as training samples\n",
    "cell_training = '089098'\n",
    "# year\n",
    "year = '2019'"
   ]
  },
  {
   "cell_type": "code",
   "execution_count": null,
   "metadata": {},
   "outputs": [],
   "source": [
    "#########################\n",
    "raster_file = f'./predictions/LSTM/{sit}.{year}.{cell}.tr{cell}.PS.tif'\n",
    "preproc = prep.Preprocessor(raster_file, no_data=-9999)\n",
    "preproc.set_nodata_value(-1)\n",
    "preproc.standardize_image('norm_range', {\"min\":-1, \"max\":1})\n",
    "raster_array = preproc.get_array_stacked_raster()\n",
    "\n",
    "params_cg = {'raster_array': raster_array,\n",
    "             'overlap': [186, 186],\n",
    "             'win_size': 1084}\n",
    "\n",
    "chip_struct = seqchips.SequentialChipGenerator(params_cg).generate_chips()"
   ]
  },
  {
   "cell_type": "code",
   "execution_count": null,
   "metadata": {},
   "outputs": [],
   "source": [
    "vis.plot_image_histogram(raster_array, title=\"Normalized Raster\", legend=['LSTM Prediction',\n",
    "                                                                          'SRTM'])"
   ]
  },
  {
   "cell_type": "code",
   "execution_count": null,
   "metadata": {},
   "outputs": [],
   "source": [
    "vis.plot_chips(chip_struct, raster_array, bands=[0,0,1], contrast=True)"
   ]
  },
  {
   "cell_type": "markdown",
   "metadata": {},
   "source": [
    "## 3. Making the prediction"
   ]
  },
  {
   "cell_type": "code",
   "execution_count": null,
   "metadata": {},
   "outputs": [],
   "source": [
    "model = mb.ModelBuilder(model_path)\n",
    "chips = model.predict(chip_struct, model_dir=model_path)"
   ]
  },
  {
   "cell_type": "markdown",
   "metadata": {},
   "source": [
    "## 4. Saving result"
   ]
  },
  {
   "cell_type": "code",
   "execution_count": null,
   "metadata": {},
   "outputs": [],
   "source": [
    "if not os.path.exists('./predictions/UNET'):\n",
    "    os.makedirs('./predictions/UNET')\n",
    "\n",
    "output_pred = f\"./predictions/UNET/{sit}.{year}.{cell}.tr{cell_training}.tif\"\n",
    "raster_array = None\n",
    "preproc = None\n",
    "gf.write_pred_chips(output_pred, raster_file, chips, chip_key='predict')"
   ]
  },
  {
   "cell_type": "code",
   "execution_count": null,
   "metadata": {},
   "outputs": [],
   "source": [
    "print(output_pred)"
   ]
  },
  {
   "cell_type": "code",
   "execution_count": null,
   "metadata": {},
   "outputs": [],
   "source": [
    "pred_rarr = gdal.Open(output_pred).ReadAsArray()\n",
    "pred_rarr = np.asarray(pred_rarr, dtype=np.float32)\n",
    "pred_rarr[pred_rarr==0] = None\n",
    "\n",
    "import matplotlib.pyplot as plt\n",
    "\n",
    "plt.figure(figsize=(10,10))\n",
    "plt.imshow(pred_rarr, cmap='Set1', interpolation='nearest')\n",
    "plt.colorbar()\n",
    "plt.show()"
   ]
  }
 ],
 "metadata": {
  "kernelspec": {
   "display_name": "Python 3",
   "language": "python",
   "name": "python3"
  },
  "language_info": {
   "codemirror_mode": {
    "name": "ipython",
    "version": 3
   },
   "file_extension": ".py",
   "mimetype": "text/x-python",
   "name": "python",
   "nbconvert_exporter": "python",
   "pygments_lexer": "ipython3",
   "version": "3.6.9"
  }
 },
 "nbformat": 4,
 "nbformat_minor": 4
}
