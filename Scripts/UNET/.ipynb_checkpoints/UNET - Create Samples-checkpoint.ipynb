{
 "cells": [
  {
   "cell_type": "markdown",
   "metadata": {},
   "source": [
    "# Create Training Samples UNET\n",
    "\n",
    "Script to create the training samples for the U-Net."
   ]
  },
  {
   "cell_type": "markdown",
   "metadata": {},
   "source": [
    "## 1. Importing libraries and changing working directory\n",
    "\n",
    "Reference for the libraries:\n",
    "\n",
    "+ [numpy](https://numpy.org/)\n",
    "+ [gdal](https://gdal.org/api/python.html)\n",
    "+ [deepgeo](https://github.com/rvmaretto/deepgeo)\n",
    "+ [skimage](https://scikit-image.org/)\n",
    "+ [os](https://docs.python.org/3/library/os.html)"
   ]
  },
  {
   "cell_type": "code",
   "execution_count": null,
   "metadata": {},
   "outputs": [],
   "source": [
    "import numpy as np\n",
    "import gdal\n",
    "from deepgeo.dataset import rasterizer\n",
    "import deepgeo.dataset.preprocessor as prep\n",
    "import deepgeo.common.geofunctions as gf\n",
    "import deepgeo.common.visualization as vis\n",
    "import deepgeo.dataset.dataset_generator as dg\n",
    "import deepgeo.dataset.data_augment as dtaug\n",
    "import deepgeo.networks.model_builder as mb\n",
    "import skimage\n",
    "import os"
   ]
  },
  {
   "cell_type": "code",
   "execution_count": null,
   "metadata": {},
   "outputs": [],
   "source": [
    "# folder where all data is stored\n",
    "os.chdir(os.getcwd().rsplit('/',2)[0]+'/Data')"
   ]
  },
  {
   "cell_type": "markdown",
   "metadata": {},
   "source": [
    "## 2. Defining parameters"
   ]
  },
  {
   "cell_type": "code",
   "execution_count": null,
   "metadata": {},
   "outputs": [],
   "source": [
    "# cell from which the training samples are going to be created.\n",
    "cell = '089098'\n",
    "# State\n",
    "state = 'BA'\n",
    "# Training samples Approach identifier\n",
    "situation = 'appr1'\n",
    "# platform\n",
    "platform = 'Sentinel'\n",
    "# year\n",
    "year = '2019'\n",
    "\n",
    "# shapefile with chips centroids\n",
    "shp_chips   = f'./ref/unet_chips.shp'\n",
    "\n",
    "raster_file = f'./predictions/LSTM/{situation}.{year}.{cell}.tr{cell}.PS.tif'\n",
    "shape_file  = f'./ref/ref_UNET_{year}_{cell}.shp'"
   ]
  },
  {
   "cell_type": "code",
   "execution_count": null,
   "metadata": {},
   "outputs": [],
   "source": [
    "if not os.path.exists('./training_samples/UNET'):\n",
    "    os.makedirs('./training_samples/UNET')\n",
    "\n",
    "output_ds = './training_samples/UNET/'+situation+'.'+state+'.'+platform\n",
    "os.mkdir(output_ds)\n",
    "ds_file_name = situation+'.'+state+'.'+platform"
   ]
  },
  {
   "cell_type": "markdown",
   "metadata": {},
   "source": [
    "## 3. Opens data and reference"
   ]
  },
  {
   "cell_type": "code",
   "execution_count": null,
   "metadata": {},
   "outputs": [],
   "source": [
    "# opens data\n",
    "img_raster = gf.load_image(raster_file, no_data=-9999)\n",
    "vis.plot_rgb_img(img_raster.astype(np.uint16), bands=[0,0,1], contrast=True, title=\"Training Reference\")"
   ]
  },
  {
   "cell_type": "code",
   "execution_count": null,
   "metadata": {},
   "outputs": [],
   "source": [
    "non_class = \"no_data\"\n",
    "class_column = \"Class\"\n",
    "out_labels = \"labels.tiff\""
   ]
  },
  {
   "cell_type": "code",
   "execution_count": null,
   "metadata": {},
   "outputs": [],
   "source": [
    "# rasterizes reference shapefile\n",
    "print('1...')\n",
    "rstzr = rasterizer.Rasterizer(shape_file,\n",
    "                              raster_file,\n",
    "                              class_column,\n",
    "                              #classes_interest=classes_of_interest,\n",
    "                              non_class_name=non_class)\n",
    "print('2...')\n",
    "rstzr.collect_class_names()\n",
    "print('3...')\n",
    "rstzr.rasterize_layer()\n",
    "print('4...')\n",
    "m_class_names = ['no_data'] + rstzr.get_class_names()\n",
    "print('5...')\n",
    "rasterized_layer = rstzr.get_labeled_raster()\n",
    "print('done')"
   ]
  },
  {
   "cell_type": "code",
   "execution_count": null,
   "metadata": {},
   "outputs": [],
   "source": [
    "rstzr.save_labeled_raster_to_gtiff(out_labels)"
   ]
  },
  {
   "cell_type": "code",
   "execution_count": null,
   "metadata": {},
   "outputs": [],
   "source": [
    "vis.plot_labels(rasterized_layer, m_class_names, colors=['white', 'red', 'green', 'red', 'green', 'red', 'green', 'red', 'green'])"
   ]
  },
  {
   "cell_type": "markdown",
   "metadata": {},
   "source": [
    "## 4. Training samples metadata"
   ]
  },
  {
   "cell_type": "code",
   "execution_count": null,
   "metadata": {},
   "outputs": [],
   "source": [
    "dataset_description = {'years': year,\n",
    "                       'standardization': 'norm_range',\n",
    "                       'range': {\"min\":-1, \"max\":1},\n",
    "                       'indexes_to_compute': 'none',\n",
    "                       'bands': ['LSTM Prediction',\n",
    "                                 'Slope'],\n",
    "                       'sensor': 'derived',\n",
    "                       'classes': m_class_names,\n",
    "                       'img_no_data': -1,\n",
    "                       'chip_size': 284,\n",
    "                       'tolerance_nodata': .95,\n",
    "                       'notes': raster_file+'\\n'+shp_chips+'\\n'+shape_file}"
   ]
  },
  {
   "cell_type": "markdown",
   "metadata": {},
   "source": [
    "## 5. Pre-process the data"
   ]
  },
  {
   "cell_type": "code",
   "execution_count": null,
   "metadata": {},
   "outputs": [],
   "source": [
    "preproc = prep.Preprocessor(raster_file, no_data=-9999)\n",
    "preproc.set_nodata_value(dataset_description['img_no_data'])"
   ]
  },
  {
   "cell_type": "code",
   "execution_count": null,
   "metadata": {},
   "outputs": [],
   "source": [
    "preproc.standardize_image(dataset_description['standardization'], dataset_description['range'])\n",
    "raster_img = preproc.get_array_stacked_raster()"
   ]
  },
  {
   "cell_type": "code",
   "execution_count": null,
   "metadata": {},
   "outputs": [],
   "source": [
    "vis.plot_image_histogram(preproc.get_array_stacked_raster(), title=\"Normalized Raster\", legend=dataset_description['bands'])#, cmap=['blue', 'red', 'green']) "
   ]
  },
  {
   "cell_type": "markdown",
   "metadata": {},
   "source": [
    "## 6. Extract training samples"
   ]
  },
  {
   "cell_type": "code",
   "execution_count": null,
   "metadata": {},
   "outputs": [],
   "source": [
    "rstzr = None\n",
    "preproc = None\n",
    "generator = dg.DatasetGenerator([raster_img],\n",
    "                                [rasterized_layer],\n",
    "                                strategy='centroids',\n",
    "                                description=dataset_description)\n",
    "params = {'win_size': dataset_description['chip_size'],\n",
    "          'class_of_interest': ['Deforestation'], #, 'Not Deforestation'],\n",
    "          'quantity': 1000,\n",
    "          'class_names': m_class_names,\n",
    "          'shp_path': shp_chips,\n",
    "          'labels_tif': raster_file}\n",
    "generator.generate_chips(params)\n",
    "chip_struct = generator.get_samples()\n",
    "# vis.plot_chips(chip_struct, raster_img, bands=[0,2,1], contrast=True)\n",
    "generator.remove_no_data(tolerance=dataset_description['tolerance_nodata'])\n",
    "vis.plot_chips(chip_struct, raster_img, bands=[0,0,1], contrast=True)"
   ]
  },
  {
   "cell_type": "markdown",
   "metadata": {},
   "source": [
    "## 7. Save samples"
   ]
  },
  {
   "cell_type": "code",
   "execution_count": null,
   "metadata": {},
   "outputs": [],
   "source": [
    "generator.shuffle_ds()\n",
    "generator.split_ds(perc_test=20, perc_val=5)"
   ]
  },
  {
   "cell_type": "code",
   "execution_count": null,
   "metadata": {},
   "outputs": [],
   "source": [
    "chip_struct = generator.get_samples()\n",
    "generator.save_to_disk(output_ds, ds_file_name)"
   ]
  }
 ],
 "metadata": {
  "kernelspec": {
   "display_name": "Python 3",
   "language": "python",
   "name": "python3"
  },
  "language_info": {
   "codemirror_mode": {
    "name": "ipython",
    "version": 3
   },
   "file_extension": ".py",
   "mimetype": "text/x-python",
   "name": "python",
   "nbconvert_exporter": "python",
   "pygments_lexer": "ipython3",
   "version": "3.6.9"
  }
 },
 "nbformat": 4,
 "nbformat_minor": 4
}
