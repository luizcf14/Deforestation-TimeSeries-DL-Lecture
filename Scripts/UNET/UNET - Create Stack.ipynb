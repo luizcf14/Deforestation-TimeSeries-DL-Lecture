{
 "cells": [
  {
   "cell_type": "markdown",
   "metadata": {},
   "source": [
    "# Create Stack with LSTM Result and SRTM\n",
    "\n",
    "Script to create the stach of LSTM deforestation probability map and the terrain SRTM slope."
   ]
  },
  {
   "cell_type": "markdown",
   "metadata": {},
   "source": [
    "## 1. Importing libraries and changing working directory\n",
    "\n",
    "Reference for the libraries:\n",
    "\n",
    "+ [gdal](https://gdal.org/tutorials/raster_api_tut.html)\n",
    "+ [numpy](https://numpy.org/)\n",
    "+ [matplotlib](https://matplotlib.org/)\n",
    "+ [os](https://docs.python.org/3/library/os.html)"
   ]
  },
  {
   "cell_type": "code",
   "execution_count": null,
   "metadata": {},
   "outputs": [],
   "source": [
    "import gdal\n",
    "import numpy as np\n",
    "import matplotlib.pyplot as plt\n",
    "import os"
   ]
  },
  {
   "cell_type": "code",
   "execution_count": null,
   "metadata": {},
   "outputs": [],
   "source": [
    "# folder where all data is stored\n",
    "os.chdir(os.getcwd().rsplit('/',2)[0]+'/Data')"
   ]
  },
  {
   "cell_type": "markdown",
   "metadata": {},
   "source": [
    "## 2. Defining parameters"
   ]
  },
  {
   "cell_type": "code",
   "execution_count": null,
   "metadata": {},
   "outputs": [],
   "source": [
    "# cell of the data\n",
    "cell_predict  = '089098'\n",
    "# cell used during LSTM training as samples\n",
    "cell_training = '089098'\n",
    "# year\n",
    "year = '2019'\n",
    "# training samples Approach\n",
    "sit = 'appr1'\n",
    "# State\n",
    "state = 'BA'\n",
    "# platform\n",
    "platform = 'Sentinel'\n",
    "\n",
    "save_path   = f'./predictions/LSTM/{sit}.{year}.{cell_predict}.tr{cell_training}.PS.tif'\n",
    "\n",
    "path_LSTM   = f'./predictions/LSTM/{sit}.{year}.{cell_predict}.tr{cell_training}.tif'\n",
    "path_slope  = f'./ref/slope_{cell_predict}.tif'\n",
    "path_band   = f'./cubes/filled/{year}.{cell_predict}.band4.tif'"
   ]
  },
  {
   "cell_type": "markdown",
   "metadata": {},
   "source": [
    "## 3. Open LSTM deforestation probability data"
   ]
  },
  {
   "cell_type": "code",
   "execution_count": null,
   "metadata": {},
   "outputs": [],
   "source": [
    "LSTM = gdal.Open(path_LSTM).ReadAsArray()\n",
    "LSTM[0,0] = -10000\n",
    "LSTM[0,1] = 10000\n",
    "\n",
    "plt.imshow(LSTM)\n",
    "plt.colorbar()\n",
    "plt.show()"
   ]
  },
  {
   "cell_type": "markdown",
   "metadata": {},
   "source": [
    "## 4. Open SRTM Slope data"
   ]
  },
  {
   "cell_type": "code",
   "execution_count": null,
   "metadata": {},
   "outputs": [],
   "source": [
    "# The .tif file must be prepared beforehand, and they must be of the same size in pixels, extent and EPSG than\n",
    "# the cube data.\n",
    "# The value for 'maximo' must be adjusted in order to approximate the output \"Max Final\" to 10,000\n",
    "\n",
    "slope = gdal.Open(path_slope).ReadAsArray()\n",
    "slope[LSTM==-9999] = -9999\n",
    "slope[np.isnan(slope)] = 0\n",
    "print('Max file:', np.max(slope))\n",
    "maximo = 17.2\n",
    "slope = slope*(10000/maximo)\n",
    "slope[LSTM==-9999] = -9999\n",
    "print('Max file used:', maximo)\n",
    "print('Max final:', np.max(slope))\n",
    "\n",
    "\n",
    "slope[0,0] = -10000\n",
    "slope[0,1] = 10000\n",
    "\n",
    "plt.imshow(slope)\n",
    "plt.colorbar()\n",
    "plt.show()"
   ]
  },
  {
   "cell_type": "markdown",
   "metadata": {},
   "source": [
    "## 5. Saving stack"
   ]
  },
  {
   "cell_type": "code",
   "execution_count": null,
   "metadata": {},
   "outputs": [],
   "source": [
    "# Saving...\n",
    "ref = gdal.Open(path_LSTM)\n",
    "in_band = ref.GetRasterBand(1)\n",
    "\n",
    "gtiff_driver = gdal.GetDriverByName('GTiff')\n",
    "out_ds = gtiff_driver.Create(save_path, LSTM.shape[1], LSTM.shape[0], 2, in_band.DataType, ['COMPRESS=LZW'])\n",
    "out_ds.SetProjection(ref.GetProjection())\n",
    "out_ds.SetGeoTransform(ref.GetGeoTransform())  \n",
    "\n",
    "band = out_ds.GetRasterBand(1)\n",
    "band.WriteArray(LSTM)\n",
    "band.SetNoDataValue(-9999)\n",
    "band.FlushCache()\n",
    "\n",
    "band = out_ds.GetRasterBand(2)\n",
    "band.WriteArray(slope)\n",
    "band.SetNoDataValue(-9999)\n",
    "band.FlushCache()\n",
    "\n",
    "out_ds = None\n",
    "ref = None"
   ]
  },
  {
   "cell_type": "code",
   "execution_count": null,
   "metadata": {},
   "outputs": [],
   "source": [
    "print(save_path)"
   ]
  }
 ],
 "metadata": {
  "kernelspec": {
   "display_name": "Python 3",
   "language": "python",
   "name": "python3"
  },
  "language_info": {
   "codemirror_mode": {
    "name": "ipython",
    "version": 3
   },
   "file_extension": ".py",
   "mimetype": "text/x-python",
   "name": "python",
   "nbconvert_exporter": "python",
   "pygments_lexer": "ipython3",
   "version": "3.6.9"
  }
 },
 "nbformat": 4,
 "nbformat_minor": 4
}
